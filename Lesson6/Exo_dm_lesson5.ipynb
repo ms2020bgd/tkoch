{
 "cells": [
  {
   "cell_type": "markdown",
   "metadata": {},
   "source": [
    "## Enoncé\n",
    "\n",
    "Peut-on établir un lien entre la densité de médecins par spécialité et par territoire et la pratique du dépassement d'honoraires ? Est-ce dans les territoires où la densité est la plus forte que les médecins pratiquent le moins les dépassements d'honoraires ? Est-ce que la densité de certains médecins / praticiens est corrélée à la densité de population pour certaines classes d'âges (bébé/pédiatre, personnes âgées / infirmiers etc...) ?\n",
    "\n",
    "C'est un sujet issu du Hackathon [\"données de santé\"](https://www.etalab.gouv.fr/retour-sur-le-premier-hackathon-donnees-de-sante) de Etalab (la page contient des liens vers différents jeux de données utiles, ainsi que d'autres exemples de questions que vous pouvez préférer aborder). Vous pouvez compléter ça avec des données de l'INSEE et des données sur la [démographie des médecins](http://www.data.drees.sante.gouv.fr/ReportFolders/reportFolders.aspx?IF_ActivePath=P,490,497,514).\n",
    "\n",
    "Vous pourrez trouver un jeu de données listant le taux moyen (je pense) de dépassements d'honoraires par spécialité des médecins et par département sur le lien suivant.\n",
    "https://www.ameli.fr/l-assurance-maladie/statistiques-et-publications/donnees-statistiques/professionnels-de-sante-liberaux/honoraires/honoraires-totaux-et-moyens.php\n",
    "\n",
    "\n",
    "Un nouveau dataset pour l'exercice kit datascience sur l'estimation de la population en France. Il y a des informations sur les tranches d'âge\n",
    "https://www.insee.fr/fr/statistiques/1893198"
   ]
  },
  {
   "cell_type": "markdown",
   "metadata": {},
   "source": [
    "## Dataset utilisés\n",
    "wiki hackathon : https://github.com/SGMAP-AGD/DAMIR/wiki/hackathon\n",
    "\n",
    "démographie médecin : http://www.data.drees.sante.gouv.fr/ReportFolders/reportFolders.aspx?IF_ActivePath=P,490,497,514"
   ]
  },
  {
   "cell_type": "code",
   "execution_count": null,
   "metadata": {},
   "outputs": [],
   "source": [
    "import pandas as pd\n",
    "import numpy as np\n",
    "import re\n",
    "import matplotlib.pyplot as plt"
   ]
  },
  {
   "cell_type": "code",
   "execution_count": null,
   "metadata": {},
   "outputs": [],
   "source": [
    "df_honoraires = pd.read_excel(\"./data/Honoraires.xls\", sheet_name = \"Spécialistes\")\n",
    "df_population = pd.read_excel(\"./data/estim-pop-dep-sexe-gca-1975-2019.xls\", sheet_name ='2019', header =[3,4])"
   ]
  },
  {
   "cell_type": "code",
   "execution_count": null,
   "metadata": {},
   "outputs": [],
   "source": [
    "df_population = pd.read_excel(\"./data/estim-pop-dep-sexe-gca-1975-2019.xls\", sheet_name = 4, skiprows=[0, 1, 2, 3])\n",
    "\n",
    "#drop NA values\n",
    "df_population.dropna(inplace = True)\n",
    "\n",
    "#rename columns \n",
    "columns = df_population.columns\n",
    "\n",
    "ensemble_columns = list(map(lambda x : x, columns[2:8])) #[:-2] to remove .1 and .2 at the end of the column name.\n",
    "men_columns = list(map(lambda x : x[:-2] + \" (H)\", columns[8:14]))\n",
    "women_columns = list(map(lambda x : x[:-2] + \" (F)\", columns[14:]))\n",
    "\n",
    "revised_columns = ['Département','Département_name'] + ensemble_columns + men_columns + women_columns\n",
    "\n",
    "df_population.columns = revised_columns\n",
    "\n",
    "#df_population[\"Num_dep\"] = df_population[\"Num_Dep\"].astype(str)"
   ]
  },
  {
   "cell_type": "code",
   "execution_count": null,
   "metadata": {},
   "outputs": [],
   "source": [
    "sheet_names = [\"Spécialistes\", \"Généralistes et MEP\", \"Dentistes et ODF\", \"Sages-femmes\", \"Auxiliaires médicaux\"]"
   ]
  },
  {
   "cell_type": "code",
   "execution_count": null,
   "metadata": {},
   "outputs": [],
   "source": [
    "def fees_data(sheet_name):\n",
    "    \n",
    "    df_fees = pd.read_excel(\"./data/Honoraires.xls\", sheet_name=sheet_name, na_values=\"nc\")\n",
    "    \n",
    "    #retrieve type of doctor \n",
    "    type_doctor = df_fees.columns[0]\n",
    "    \n",
    "    df_fees.columns = [\"Spécialité\", \"Département\", \"Effectifs\", \"Honoraires sans dépassement\", \"Dépassements\",\n",
    "                       \"Frais de déplacement\", \"Total des honoraires\"]\n",
    "    \n",
    "    \n",
    "    #remove rows contraining words TOTAL within column Department\n",
    "    df_fees = df_fees[~df_fees[\"Département\"].str.contains(\"TOTAL\")]\n",
    "    df_fees = df_fees[df_fees[\"Effectifs\"] != 0]\n",
    "   # df_fees = df_fees[~df_fees[\"Spécialité\"].str.contains(\"TOTAL\")]\n",
    "    df_fees = df_fees.dropna()\n",
    "    \n",
    "    \n",
    "    df_fees[\"Type\"] = type_doctor\n",
    "    \n",
    "    df_fees[\"Département\"] = df_fees[\"Département\"].apply(lambda x : x.split(\"-\")[0])\n",
    "    df_fees[\"Département\"] = df_fees[\"Département\"].astype(str)\n",
    "   \n",
    "    return df_fees"
   ]
  },
  {
   "cell_type": "code",
   "execution_count": null,
   "metadata": {},
   "outputs": [],
   "source": [
    "medical_fees = pd.concat(map(fees_data, sheet_names))\n",
    "medical_fees"
   ]
  },
  {
   "cell_type": "code",
   "execution_count": null,
   "metadata": {},
   "outputs": [],
   "source": [
    "df_concat = pd.merge(df_population, medical_fees, how=\"left\", on=[\"Département\"])\n",
    "df_concat = df_concat.dropna()\n",
    "\n",
    "df_concat[\"Proportion dépassement\"] = df_concat[\"Dépassements\"]/df_concat[\"Total des honoraires\"]\n",
    "\n",
    "df_concat"
   ]
  },
  {
   "cell_type": "code",
   "execution_count": null,
   "metadata": {},
   "outputs": [],
   "source": [
    "df_concat['Depassement ratio'] = df_concat['Dépassements'] / df_concat['Effectifs']\n",
    "df_concat['Doctor density'] = df_concat['Effectifs'] / df_concat['Total']"
   ]
  },
  {
   "cell_type": "code",
   "execution_count": null,
   "metadata": {},
   "outputs": [],
   "source": [
    "# Plotting results\n",
    "plt.figure(figsize=(10, 6))\n",
    "plt.plot(df_concat['Doctor density'], df_concat['Depassement ratio'],\n",
    "         linestyle='', marker='o', color='b')\n",
    "plt.xlabel('Doctor density per department')\n",
    "plt.ylabel('Depassement ratio (Euros per doctor)')\n",
    "plt.title(\"Relation between 'depassement' ratio and doctor density per department\")\n",
    "plt.show()"
   ]
  }
 ],
 "metadata": {
  "kernelspec": {
   "display_name": "Python 3",
   "language": "python",
   "name": "python3"
  },
  "language_info": {
   "codemirror_mode": {
    "name": "ipython",
    "version": 3
   },
   "file_extension": ".py",
   "mimetype": "text/x-python",
   "name": "python",
   "nbconvert_exporter": "python",
   "pygments_lexer": "ipython3",
   "version": "3.7.4"
  }
 },
 "nbformat": 4,
 "nbformat_minor": 4
}

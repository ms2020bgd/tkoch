{
 "cells": [
  {
   "cell_type": "markdown",
   "metadata": {},
   "source": [
    "## Exercice :\n",
    "\n",
    "Faire un programme qui:\n",
    "\n",
    "- Trouve les 10 villes de France les + peuplées (e.g https://fr.wikipedia.org/wiki/Liste_des_communes_de_France_les_plus_peuplées)\n",
    "- Pour chaque ville, \n",
    "    * trouve sa distance avec les autres. par exemple, avec google maps api (nécessite de s'authentifier / créer un token) avec https://github.com/googlemaps/google-maps-services-python (cf. doc token dans le readme)\n",
    "    * ou avec https://fr.distance24.org/ (pas besoin de s'authentifier)\n",
    "- Trouve les villes les plus proches"
   ]
  },
  {
   "cell_type": "code",
   "execution_count": 1,
   "metadata": {},
   "outputs": [],
   "source": [
    "import requests\n",
    "from bs4 import BeautifulSoup\n",
    "\n",
    "import itertools"
   ]
  },
  {
   "cell_type": "code",
   "execution_count": 2,
   "metadata": {},
   "outputs": [],
   "source": [
    "url =\"https://fr.wikipedia.org/wiki/Liste_des_communes_de_France_les_plus_peupl%C3%A9es\""
   ]
  },
  {
   "cell_type": "code",
   "execution_count": 19,
   "metadata": {},
   "outputs": [],
   "source": [
    "def getTop10Cities(url):\n",
    "    page = requests.get(url, verify=True, timeout=6)\n",
    "    content = page.text\n",
    "    bs = BeautifulSoup(content, 'html.parser')\n",
    "\n",
    "    divs = bs.find('table').find('tbody').find_all('tr')\n",
    "    cities = []\n",
    "    \n",
    "    for index, line in enumerate(divs[1:11]):\n",
    "        city = line.find('a').text; \n",
    "        cities.append(city)\n",
    "        #print(f\"{index+1} - {city}\") \n",
    "    return cities"
   ]
  },
  {
   "cell_type": "code",
   "execution_count": 20,
   "metadata": {},
   "outputs": [
    {
     "data": {
      "text/plain": [
       "['Paris',\n",
       " 'Marseille',\n",
       " 'Lyon',\n",
       " 'Toulouse',\n",
       " 'Nice',\n",
       " 'Nantes',\n",
       " 'Montpellier',\n",
       " 'Strasbourg',\n",
       " 'Bordeaux',\n",
       " 'Lille']"
      ]
     },
     "execution_count": 20,
     "metadata": {},
     "output_type": "execute_result"
    }
   ],
   "source": [
    "getTop10Cities(url)"
   ]
  },
  {
   "cell_type": "code",
   "execution_count": 21,
   "metadata": {},
   "outputs": [],
   "source": [
    "cct = [getTop10Cities(url), getTop10Cities(url)]\n",
    "\n",
    "distance = {}\n",
    "\n",
    "for element in itertools.product(*cct):\n",
    "\n",
    "    if element[0] > element[1]:\n",
    "        element = (element[1], element[0])\n",
    "\n",
    "    if not distance.get(element):\n",
    "\n",
    "        result = requests.get(\"https://fr.distance24.org/route.json?stops=\"+element[0]+\"|\"+element[1]).json()\n",
    "        distance[element[0]+\"|\"+element[1]] = result[\"distance\"]"
   ]
  },
  {
   "cell_type": "markdown",
   "metadata": {},
   "source": [
    "On récupère ensuite nos éléments en faisant un tri sur les valeurs du dict.\n",
    "Dans la fonction `sorted`, on paramètre un lambda dans le critère de tri *key*. Ce lambda renvoie la valeur du tuple, et cette valeur sera notre *key* de tri."
   ]
  },
  {
   "cell_type": "code",
   "execution_count": 22,
   "metadata": {},
   "outputs": [
    {
     "data": {
      "text/plain": [
       "[('Lille|Marseille', 835),\n",
       " ('Lille|Nice', 835),\n",
       " ('Lille|Toulouse', 792),\n",
       " ('Nantes|Nice', 792),\n",
       " ('Lille|Montpellier', 784),\n",
       " ('Bordeaux|Strasbourg', 760),\n",
       " ('Strasbourg|Toulouse', 737),\n",
       " ('Nantes|Strasbourg', 710),\n",
       " ('Bordeaux|Lille', 700),\n",
       " ('Marseille|Nantes', 696),\n",
       " ('Nice|Paris', 688),\n",
       " ('Marseille|Paris', 661),\n",
       " ('Bordeaux|Nice', 638),\n",
       " ('Montpellier|Strasbourg', 629),\n",
       " ('Marseille|Strasbourg', 617),\n",
       " ('Montpellier|Paris', 596),\n",
       " ('Paris|Toulouse', 589),\n",
       " ('Montpellier|Nantes', 584),\n",
       " ('Lille|Lyon', 558),\n",
       " ('Nice|Strasbourg', 545),\n",
       " ('Lyon|Nantes', 516),\n",
       " ('Lille|Nantes', 508),\n",
       " ('Bordeaux|Marseille', 506),\n",
       " ('Bordeaux|Paris', 500),\n",
       " ('Nice|Toulouse', 469),\n",
       " ('Nantes|Toulouse', 466),\n",
       " ('Bordeaux|Lyon', 436),\n",
       " ('Lille|Strasbourg', 408),\n",
       " ('Paris|Strasbourg', 397),\n",
       " ('Lyon|Paris', 392),\n",
       " ('Lyon|Strasbourg', 384),\n",
       " ('Bordeaux|Montpellier', 381),\n",
       " ('Lyon|Toulouse', 360),\n",
       " ('Nantes|Paris', 343),\n",
       " ('Marseille|Toulouse', 319),\n",
       " ('Lyon|Nice', 300),\n",
       " ('Lyon|Marseille', 278),\n",
       " ('Bordeaux|Nantes', 276),\n",
       " ('Montpellier|Nice', 273),\n",
       " ('Lyon|Montpellier', 251),\n",
       " ('Bordeaux|Toulouse', 212),\n",
       " ('Lille|Paris', 204),\n",
       " ('Montpellier|Toulouse', 196),\n",
       " ('Marseille|Nice', 159),\n",
       " ('Marseille|Montpellier', 126),\n",
       " ('Paris|Paris', 0),\n",
       " ('Marseille|Marseille', 0),\n",
       " ('Lyon|Lyon', 0),\n",
       " ('Toulouse|Toulouse', 0),\n",
       " ('Nice|Nice', 0),\n",
       " ('Nantes|Nantes', 0),\n",
       " ('Montpellier|Montpellier', 0),\n",
       " ('Strasbourg|Strasbourg', 0),\n",
       " ('Bordeaux|Bordeaux', 0),\n",
       " ('Lille|Lille', 0)]"
      ]
     },
     "execution_count": 22,
     "metadata": {},
     "output_type": "execute_result"
    }
   ],
   "source": [
    "distanceSorted = sorted(distance.items(), key=lambda x: x[1], reverse=True) \n",
    "distanceSorted"
   ]
  },
  {
   "cell_type": "markdown",
   "metadata": {},
   "source": [
    "Ou encore, directement avec `itemgetter` qui fait la même chose que notre lambda.\n",
    "On pouvait aussi prendre `itemgetter(0)` pour faire un tri sur la clé."
   ]
  },
  {
   "cell_type": "code",
   "execution_count": 23,
   "metadata": {},
   "outputs": [
    {
     "data": {
      "text/plain": [
       "[('Lille|Marseille', 835),\n",
       " ('Lille|Nice', 835),\n",
       " ('Lille|Toulouse', 792),\n",
       " ('Nantes|Nice', 792),\n",
       " ('Lille|Montpellier', 784),\n",
       " ('Bordeaux|Strasbourg', 760),\n",
       " ('Strasbourg|Toulouse', 737),\n",
       " ('Nantes|Strasbourg', 710),\n",
       " ('Bordeaux|Lille', 700),\n",
       " ('Marseille|Nantes', 696),\n",
       " ('Nice|Paris', 688),\n",
       " ('Marseille|Paris', 661),\n",
       " ('Bordeaux|Nice', 638),\n",
       " ('Montpellier|Strasbourg', 629),\n",
       " ('Marseille|Strasbourg', 617),\n",
       " ('Montpellier|Paris', 596),\n",
       " ('Paris|Toulouse', 589),\n",
       " ('Montpellier|Nantes', 584),\n",
       " ('Lille|Lyon', 558),\n",
       " ('Nice|Strasbourg', 545),\n",
       " ('Lyon|Nantes', 516),\n",
       " ('Lille|Nantes', 508),\n",
       " ('Bordeaux|Marseille', 506),\n",
       " ('Bordeaux|Paris', 500),\n",
       " ('Nice|Toulouse', 469),\n",
       " ('Nantes|Toulouse', 466),\n",
       " ('Bordeaux|Lyon', 436),\n",
       " ('Lille|Strasbourg', 408),\n",
       " ('Paris|Strasbourg', 397),\n",
       " ('Lyon|Paris', 392),\n",
       " ('Lyon|Strasbourg', 384),\n",
       " ('Bordeaux|Montpellier', 381),\n",
       " ('Lyon|Toulouse', 360),\n",
       " ('Nantes|Paris', 343),\n",
       " ('Marseille|Toulouse', 319),\n",
       " ('Lyon|Nice', 300),\n",
       " ('Lyon|Marseille', 278),\n",
       " ('Bordeaux|Nantes', 276),\n",
       " ('Montpellier|Nice', 273),\n",
       " ('Lyon|Montpellier', 251),\n",
       " ('Bordeaux|Toulouse', 212),\n",
       " ('Lille|Paris', 204),\n",
       " ('Montpellier|Toulouse', 196),\n",
       " ('Marseille|Nice', 159),\n",
       " ('Marseille|Montpellier', 126),\n",
       " ('Paris|Paris', 0),\n",
       " ('Marseille|Marseille', 0),\n",
       " ('Lyon|Lyon', 0),\n",
       " ('Toulouse|Toulouse', 0),\n",
       " ('Nice|Nice', 0),\n",
       " ('Nantes|Nantes', 0),\n",
       " ('Montpellier|Montpellier', 0),\n",
       " ('Strasbourg|Strasbourg', 0),\n",
       " ('Bordeaux|Bordeaux', 0),\n",
       " ('Lille|Lille', 0)]"
      ]
     },
     "execution_count": 23,
     "metadata": {},
     "output_type": "execute_result"
    }
   ],
   "source": [
    "from operator import itemgetter\n",
    "\n",
    "sorted(distance.items(), reverse=True, key=itemgetter(1))"
   ]
  },
  {
   "cell_type": "markdown",
   "metadata": {},
   "source": [
    "On peut aussi faire directement le **tri sur les clés** pour ranger par ordre alphabétique les villes."
   ]
  },
  {
   "cell_type": "code",
   "execution_count": 24,
   "metadata": {},
   "outputs": [
    {
     "data": {
      "text/plain": [
       "[('Bordeaux|Bordeaux', 0),\n",
       " ('Bordeaux|Lille', 700),\n",
       " ('Bordeaux|Lyon', 436),\n",
       " ('Bordeaux|Marseille', 506),\n",
       " ('Bordeaux|Montpellier', 381),\n",
       " ('Bordeaux|Nantes', 276),\n",
       " ('Bordeaux|Nice', 638),\n",
       " ('Bordeaux|Paris', 500),\n",
       " ('Bordeaux|Strasbourg', 760),\n",
       " ('Bordeaux|Toulouse', 212),\n",
       " ('Lille|Lille', 0),\n",
       " ('Lille|Lyon', 558),\n",
       " ('Lille|Marseille', 835),\n",
       " ('Lille|Montpellier', 784),\n",
       " ('Lille|Nantes', 508),\n",
       " ('Lille|Nice', 835),\n",
       " ('Lille|Paris', 204),\n",
       " ('Lille|Strasbourg', 408),\n",
       " ('Lille|Toulouse', 792),\n",
       " ('Lyon|Lyon', 0),\n",
       " ('Lyon|Marseille', 278),\n",
       " ('Lyon|Montpellier', 251),\n",
       " ('Lyon|Nantes', 516),\n",
       " ('Lyon|Nice', 300),\n",
       " ('Lyon|Paris', 392),\n",
       " ('Lyon|Strasbourg', 384),\n",
       " ('Lyon|Toulouse', 360),\n",
       " ('Marseille|Marseille', 0),\n",
       " ('Marseille|Montpellier', 126),\n",
       " ('Marseille|Nantes', 696),\n",
       " ('Marseille|Nice', 159),\n",
       " ('Marseille|Paris', 661),\n",
       " ('Marseille|Strasbourg', 617),\n",
       " ('Marseille|Toulouse', 319),\n",
       " ('Montpellier|Montpellier', 0),\n",
       " ('Montpellier|Nantes', 584),\n",
       " ('Montpellier|Nice', 273),\n",
       " ('Montpellier|Paris', 596),\n",
       " ('Montpellier|Strasbourg', 629),\n",
       " ('Montpellier|Toulouse', 196),\n",
       " ('Nantes|Nantes', 0),\n",
       " ('Nantes|Nice', 792),\n",
       " ('Nantes|Paris', 343),\n",
       " ('Nantes|Strasbourg', 710),\n",
       " ('Nantes|Toulouse', 466),\n",
       " ('Nice|Nice', 0),\n",
       " ('Nice|Paris', 688),\n",
       " ('Nice|Strasbourg', 545),\n",
       " ('Nice|Toulouse', 469),\n",
       " ('Paris|Paris', 0),\n",
       " ('Paris|Strasbourg', 397),\n",
       " ('Paris|Toulouse', 589),\n",
       " ('Strasbourg|Strasbourg', 0),\n",
       " ('Strasbourg|Toulouse', 737),\n",
       " ('Toulouse|Toulouse', 0)]"
      ]
     },
     "execution_count": 24,
     "metadata": {},
     "output_type": "execute_result"
    }
   ],
   "source": [
    "sorted(distance.items(), reverse=False)"
   ]
  },
  {
   "cell_type": "code",
   "execution_count": null,
   "metadata": {},
   "outputs": [],
   "source": []
  }
 ],
 "metadata": {
  "kernelspec": {
   "display_name": "Python 3",
   "language": "python",
   "name": "python3"
  },
  "language_info": {
   "codemirror_mode": {
    "name": "ipython",
    "version": 3
   },
   "file_extension": ".py",
   "mimetype": "text/x-python",
   "name": "python",
   "nbconvert_exporter": "python",
   "pygments_lexer": "ipython3",
   "version": "3.7.4"
  }
 },
 "nbformat": 4,
 "nbformat_minor": 4
}

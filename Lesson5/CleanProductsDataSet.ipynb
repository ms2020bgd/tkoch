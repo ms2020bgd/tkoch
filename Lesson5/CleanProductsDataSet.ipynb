{
 "cells": [
  {
   "cell_type": "markdown",
   "metadata": {},
   "source": [
    "## DM lesson4\n",
    "\n",
    "Dans ce dataset: https://raw.githubusercontent.com/fspot/INFMDI-721/master/lesson5/products.csv, chaque ligne correspond à un produit alimentaire mis en vente par un utilisateur.\n",
    "\n",
    "Objectif: cleaner le dataset.\n",
    "\n",
    "- On aimerait avoir une colonne de prix unifiés en euros. Problème: la currency n'est pas indiquée pour tous les produits: il va falloir essayer de \"deviner\" les currency manquantes, en se basant sur l'adresse IP de l'utilisateur.\n",
    "- La colonne \"infos\" liste des ingrédients présents dans le produit. On préfèrerait avoir une colonne de type bool par ingrédient, indiquant si le produit contient ou non cet ingrédient.\n",
    "\n",
    "Voic une liste d'APIs qui peut vous être utile : https://github.com/public-apis/public-apis (mais vous pouvez en utiliser d'autres si vous le voulez)."
   ]
  },
  {
   "cell_type": "code",
   "execution_count": 1,
   "metadata": {},
   "outputs": [],
   "source": [
    "import pandas as pd\n",
    "import requests\n",
    "import json\n",
    "import time"
   ]
  },
  {
   "cell_type": "code",
   "execution_count": 2,
   "metadata": {},
   "outputs": [],
   "source": [
    "products = pd.read_csv('products.csv', sep = ';')"
   ]
  },
  {
   "cell_type": "code",
   "execution_count": 3,
   "metadata": {},
   "outputs": [
    {
     "name": "stdout",
     "output_type": "stream",
     "text": [
      "<class 'pandas.core.frame.DataFrame'>\n",
      "RangeIndex: 200 entries, 0 to 199\n",
      "Data columns (total 5 columns):\n",
      "username      200 non-null object\n",
      "ip_address    200 non-null object\n",
      "product       200 non-null object\n",
      "price         200 non-null object\n",
      "infos         200 non-null object\n",
      "dtypes: object(5)\n",
      "memory usage: 7.9+ KB\n"
     ]
    }
   ],
   "source": [
    "products.info()"
   ]
  },
  {
   "cell_type": "code",
   "execution_count": 4,
   "metadata": {},
   "outputs": [
    {
     "data": {
      "text/html": [
       "<div>\n",
       "<style scoped>\n",
       "    .dataframe tbody tr th:only-of-type {\n",
       "        vertical-align: middle;\n",
       "    }\n",
       "\n",
       "    .dataframe tbody tr th {\n",
       "        vertical-align: top;\n",
       "    }\n",
       "\n",
       "    .dataframe thead th {\n",
       "        text-align: right;\n",
       "    }\n",
       "</style>\n",
       "<table border=\"1\" class=\"dataframe\">\n",
       "  <thead>\n",
       "    <tr style=\"text-align: right;\">\n",
       "      <th></th>\n",
       "      <th>username</th>\n",
       "      <th>ip_address</th>\n",
       "      <th>product</th>\n",
       "      <th>price</th>\n",
       "      <th>infos</th>\n",
       "    </tr>\n",
       "  </thead>\n",
       "  <tbody>\n",
       "    <tr>\n",
       "      <td>0</td>\n",
       "      <td>ldrover0</td>\n",
       "      <td>666.666.666.666</td>\n",
       "      <td>Clam - Cherrystone</td>\n",
       "      <td>712.8</td>\n",
       "      <td>May contain sugar</td>\n",
       "    </tr>\n",
       "    <tr>\n",
       "      <td>1</td>\n",
       "      <td>kizakov1</td>\n",
       "      <td>nope</td>\n",
       "      <td>Soup - Campbells Bean Medley</td>\n",
       "      <td>379.26</td>\n",
       "      <td>Contains peanut and fish</td>\n",
       "    </tr>\n",
       "    <tr>\n",
       "      <td>2</td>\n",
       "      <td>abromet2</td>\n",
       "      <td>240.177.79.234</td>\n",
       "      <td>Island Oasis - Lemonade</td>\n",
       "      <td>305.96</td>\n",
       "      <td>Ingredients: mustard and fish</td>\n",
       "    </tr>\n",
       "    <tr>\n",
       "      <td>3</td>\n",
       "      <td>kkarolowski3</td>\n",
       "      <td>26.191.237.49</td>\n",
       "      <td>Water - Mineral, Natural</td>\n",
       "      <td>350.15</td>\n",
       "      <td>Contains gluten</td>\n",
       "    </tr>\n",
       "    <tr>\n",
       "      <td>4</td>\n",
       "      <td>mbuckney4</td>\n",
       "      <td>58.90.204.239</td>\n",
       "      <td>Radish - Pickled</td>\n",
       "      <td>949.79</td>\n",
       "      <td>May contain sugar, egg and fish</td>\n",
       "    </tr>\n",
       "  </tbody>\n",
       "</table>\n",
       "</div>"
      ],
      "text/plain": [
       "       username       ip_address                       product   price  \\\n",
       "0      ldrover0  666.666.666.666            Clam - Cherrystone   712.8   \n",
       "1      kizakov1             nope  Soup - Campbells Bean Medley  379.26   \n",
       "2      abromet2   240.177.79.234       Island Oasis - Lemonade  305.96   \n",
       "3  kkarolowski3    26.191.237.49      Water - Mineral, Natural  350.15   \n",
       "4     mbuckney4    58.90.204.239              Radish - Pickled  949.79   \n",
       "\n",
       "                             infos  \n",
       "0                May contain sugar  \n",
       "1         Contains peanut and fish  \n",
       "2    Ingredients: mustard and fish  \n",
       "3                  Contains gluten  \n",
       "4  May contain sugar, egg and fish  "
      ]
     },
     "execution_count": 4,
     "metadata": {},
     "output_type": "execute_result"
    }
   ],
   "source": [
    "products.head()"
   ]
  },
  {
   "cell_type": "markdown",
   "metadata": {},
   "source": [
    "## Mettre la colonne *'infos'* sous forme de Boolean en créant une colonne par ingrédient"
   ]
  },
  {
   "cell_type": "markdown",
   "metadata": {},
   "source": [
    "Commençons par nettoyer la colonne *'infos'* en mettant en minuscule et retirant les signes et mots non pertinents"
   ]
  },
  {
   "cell_type": "code",
   "execution_count": 5,
   "metadata": {},
   "outputs": [],
   "source": [
    "products['infos'] = products.infos.str.lower()\\\n",
    "                    .str.replace(',','')\\\n",
    "                    .str.replace(':','')\\\n",
    "                    .str.replace('and','')\\\n",
    "                    .str.replace('may','')\\\n",
    "                    .str.replace('contains','')\\\n",
    "                    .str.replace('contain','')\\\n",
    "                    .str.replace('ingredients','')"
   ]
  },
  {
   "cell_type": "code",
   "execution_count": 6,
   "metadata": {},
   "outputs": [
    {
     "data": {
      "text/html": [
       "<div>\n",
       "<style scoped>\n",
       "    .dataframe tbody tr th:only-of-type {\n",
       "        vertical-align: middle;\n",
       "    }\n",
       "\n",
       "    .dataframe tbody tr th {\n",
       "        vertical-align: top;\n",
       "    }\n",
       "\n",
       "    .dataframe thead th {\n",
       "        text-align: right;\n",
       "    }\n",
       "</style>\n",
       "<table border=\"1\" class=\"dataframe\">\n",
       "  <thead>\n",
       "    <tr style=\"text-align: right;\">\n",
       "      <th></th>\n",
       "      <th>username</th>\n",
       "      <th>ip_address</th>\n",
       "      <th>product</th>\n",
       "      <th>price</th>\n",
       "      <th>infos</th>\n",
       "    </tr>\n",
       "  </thead>\n",
       "  <tbody>\n",
       "    <tr>\n",
       "      <td>0</td>\n",
       "      <td>ldrover0</td>\n",
       "      <td>666.666.666.666</td>\n",
       "      <td>Clam - Cherrystone</td>\n",
       "      <td>712.8</td>\n",
       "      <td>sugar</td>\n",
       "    </tr>\n",
       "    <tr>\n",
       "      <td>1</td>\n",
       "      <td>kizakov1</td>\n",
       "      <td>nope</td>\n",
       "      <td>Soup - Campbells Bean Medley</td>\n",
       "      <td>379.26</td>\n",
       "      <td>peanut  fish</td>\n",
       "    </tr>\n",
       "    <tr>\n",
       "      <td>2</td>\n",
       "      <td>abromet2</td>\n",
       "      <td>240.177.79.234</td>\n",
       "      <td>Island Oasis - Lemonade</td>\n",
       "      <td>305.96</td>\n",
       "      <td>mustard  fish</td>\n",
       "    </tr>\n",
       "    <tr>\n",
       "      <td>3</td>\n",
       "      <td>kkarolowski3</td>\n",
       "      <td>26.191.237.49</td>\n",
       "      <td>Water - Mineral, Natural</td>\n",
       "      <td>350.15</td>\n",
       "      <td>gluten</td>\n",
       "    </tr>\n",
       "    <tr>\n",
       "      <td>4</td>\n",
       "      <td>mbuckney4</td>\n",
       "      <td>58.90.204.239</td>\n",
       "      <td>Radish - Pickled</td>\n",
       "      <td>949.79</td>\n",
       "      <td>sugar egg  fish</td>\n",
       "    </tr>\n",
       "  </tbody>\n",
       "</table>\n",
       "</div>"
      ],
      "text/plain": [
       "       username       ip_address                       product   price  \\\n",
       "0      ldrover0  666.666.666.666            Clam - Cherrystone   712.8   \n",
       "1      kizakov1             nope  Soup - Campbells Bean Medley  379.26   \n",
       "2      abromet2   240.177.79.234       Island Oasis - Lemonade  305.96   \n",
       "3  kkarolowski3    26.191.237.49      Water - Mineral, Natural  350.15   \n",
       "4     mbuckney4    58.90.204.239              Radish - Pickled  949.79   \n",
       "\n",
       "               infos  \n",
       "0              sugar  \n",
       "1       peanut  fish  \n",
       "2      mustard  fish  \n",
       "3             gluten  \n",
       "4    sugar egg  fish  "
      ]
     },
     "execution_count": 6,
     "metadata": {},
     "output_type": "execute_result"
    }
   ],
   "source": [
    "products.head()"
   ]
  },
  {
   "cell_type": "markdown",
   "metadata": {},
   "source": [
    "Utilisation de `get_dummies()` : https://pandas.pydata.org/pandas-docs/stable/reference/api/pandas.get_dummies.html       \n",
    "Convert categorical variable into dummy/indicator variables"
   ]
  },
  {
   "cell_type": "code",
   "execution_count": 7,
   "metadata": {},
   "outputs": [],
   "source": [
    "products = products.join(products.infos.str.get_dummies(' '))"
   ]
  },
  {
   "cell_type": "code",
   "execution_count": 8,
   "metadata": {},
   "outputs": [
    {
     "data": {
      "text/html": [
       "<div>\n",
       "<style scoped>\n",
       "    .dataframe tbody tr th:only-of-type {\n",
       "        vertical-align: middle;\n",
       "    }\n",
       "\n",
       "    .dataframe tbody tr th {\n",
       "        vertical-align: top;\n",
       "    }\n",
       "\n",
       "    .dataframe thead th {\n",
       "        text-align: right;\n",
       "    }\n",
       "</style>\n",
       "<table border=\"1\" class=\"dataframe\">\n",
       "  <thead>\n",
       "    <tr style=\"text-align: right;\">\n",
       "      <th></th>\n",
       "      <th>username</th>\n",
       "      <th>ip_address</th>\n",
       "      <th>product</th>\n",
       "      <th>price</th>\n",
       "      <th>infos</th>\n",
       "      <th>egg</th>\n",
       "      <th>fish</th>\n",
       "      <th>gluten</th>\n",
       "      <th>milk</th>\n",
       "      <th>mustard</th>\n",
       "      <th>peanut</th>\n",
       "      <th>soja</th>\n",
       "      <th>sugar</th>\n",
       "    </tr>\n",
       "  </thead>\n",
       "  <tbody>\n",
       "    <tr>\n",
       "      <td>0</td>\n",
       "      <td>ldrover0</td>\n",
       "      <td>666.666.666.666</td>\n",
       "      <td>Clam - Cherrystone</td>\n",
       "      <td>712.8</td>\n",
       "      <td>sugar</td>\n",
       "      <td>0</td>\n",
       "      <td>0</td>\n",
       "      <td>0</td>\n",
       "      <td>0</td>\n",
       "      <td>0</td>\n",
       "      <td>0</td>\n",
       "      <td>0</td>\n",
       "      <td>1</td>\n",
       "    </tr>\n",
       "    <tr>\n",
       "      <td>1</td>\n",
       "      <td>kizakov1</td>\n",
       "      <td>nope</td>\n",
       "      <td>Soup - Campbells Bean Medley</td>\n",
       "      <td>379.26</td>\n",
       "      <td>peanut  fish</td>\n",
       "      <td>0</td>\n",
       "      <td>1</td>\n",
       "      <td>0</td>\n",
       "      <td>0</td>\n",
       "      <td>0</td>\n",
       "      <td>1</td>\n",
       "      <td>0</td>\n",
       "      <td>0</td>\n",
       "    </tr>\n",
       "    <tr>\n",
       "      <td>2</td>\n",
       "      <td>abromet2</td>\n",
       "      <td>240.177.79.234</td>\n",
       "      <td>Island Oasis - Lemonade</td>\n",
       "      <td>305.96</td>\n",
       "      <td>mustard  fish</td>\n",
       "      <td>0</td>\n",
       "      <td>1</td>\n",
       "      <td>0</td>\n",
       "      <td>0</td>\n",
       "      <td>1</td>\n",
       "      <td>0</td>\n",
       "      <td>0</td>\n",
       "      <td>0</td>\n",
       "    </tr>\n",
       "    <tr>\n",
       "      <td>3</td>\n",
       "      <td>kkarolowski3</td>\n",
       "      <td>26.191.237.49</td>\n",
       "      <td>Water - Mineral, Natural</td>\n",
       "      <td>350.15</td>\n",
       "      <td>gluten</td>\n",
       "      <td>0</td>\n",
       "      <td>0</td>\n",
       "      <td>1</td>\n",
       "      <td>0</td>\n",
       "      <td>0</td>\n",
       "      <td>0</td>\n",
       "      <td>0</td>\n",
       "      <td>0</td>\n",
       "    </tr>\n",
       "    <tr>\n",
       "      <td>4</td>\n",
       "      <td>mbuckney4</td>\n",
       "      <td>58.90.204.239</td>\n",
       "      <td>Radish - Pickled</td>\n",
       "      <td>949.79</td>\n",
       "      <td>sugar egg  fish</td>\n",
       "      <td>1</td>\n",
       "      <td>1</td>\n",
       "      <td>0</td>\n",
       "      <td>0</td>\n",
       "      <td>0</td>\n",
       "      <td>0</td>\n",
       "      <td>0</td>\n",
       "      <td>1</td>\n",
       "    </tr>\n",
       "  </tbody>\n",
       "</table>\n",
       "</div>"
      ],
      "text/plain": [
       "       username       ip_address                       product   price  \\\n",
       "0      ldrover0  666.666.666.666            Clam - Cherrystone   712.8   \n",
       "1      kizakov1             nope  Soup - Campbells Bean Medley  379.26   \n",
       "2      abromet2   240.177.79.234       Island Oasis - Lemonade  305.96   \n",
       "3  kkarolowski3    26.191.237.49      Water - Mineral, Natural  350.15   \n",
       "4     mbuckney4    58.90.204.239              Radish - Pickled  949.79   \n",
       "\n",
       "               infos  egg  fish  gluten  milk  mustard  peanut  soja  sugar  \n",
       "0              sugar    0     0       0     0        0       0     0      1  \n",
       "1       peanut  fish    0     1       0     0        0       1     0      0  \n",
       "2      mustard  fish    0     1       0     0        1       0     0      0  \n",
       "3             gluten    0     0       1     0        0       0     0      0  \n",
       "4    sugar egg  fish    1     1       0     0        0       0     0      1  "
      ]
     },
     "execution_count": 8,
     "metadata": {},
     "output_type": "execute_result"
    }
   ],
   "source": [
    "products.head()"
   ]
  },
  {
   "cell_type": "markdown",
   "metadata": {},
   "source": [
    "## Créer une colonne de prix unifiés"
   ]
  },
  {
   "cell_type": "markdown",
   "metadata": {},
   "source": [
    "Pour obtenir la monnaie du pays à partir de l'@ IP, on utilise l'API **'ipapi.co'** qui n'est pas en .json à des fins d'entraînement."
   ]
  },
  {
   "cell_type": "code",
   "execution_count": 14,
   "metadata": {},
   "outputs": [],
   "source": [
    "products['price'] = products.price.str.split().str[0]\n",
    "products['price'] = pd.to_numeric(products.price)"
   ]
  },
  {
   "cell_type": "code",
   "execution_count": 15,
   "metadata": {},
   "outputs": [],
   "source": [
    "def getCountry(ip):\n",
    "    \n",
    "    test=f\"https://freegeoip.app/json/{ip}\"\n",
    "    resp = requests.get(test)\n",
    "    data = resp.json()['country_code']\n",
    "    \n",
    "    time.sleep(0.2)\n",
    "    return data"
   ]
  },
  {
   "cell_type": "code",
   "execution_count": 16,
   "metadata": {},
   "outputs": [],
   "source": [
    "# Python program to validate an Ip addess . SOURCE= https://www.geeksforgeeks.org/python-program-to-validate-an-ip-address/\n",
    "  \n",
    "# re module provides support \n",
    "# for regular expressions \n",
    "import re \n",
    "  \n",
    "# Make a regular expression \n",
    "# for validating an Ip-address \n",
    "regex = '''^(25[0-5]|2[0-4][0-9]|[0-1]?[0-9][0-9]?)\\.( \n",
    "            25[0-5]|2[0-4][0-9]|[0-1]?[0-9][0-9]?)\\.( \n",
    "            25[0-5]|2[0-4][0-9]|[0-1]?[0-9][0-9]?)\\.( \n",
    "            25[0-5]|2[0-4][0-9]|[0-1]?[0-9][0-9]?)'''\n",
    "      \n",
    "# Define a function to validate an Ip addess \n",
    "def check(Ip):  \n",
    "  \n",
    "    # pass the regular expression \n",
    "    # and the string in search() method \n",
    "    if(re.search(regex, Ip)):  \n",
    "        return True"
   ]
  },
  {
   "cell_type": "markdown",
   "metadata": {},
   "source": [
    "Création d'une colonne ***'valid_ip'*** :"
   ]
  },
  {
   "cell_type": "code",
   "execution_count": 18,
   "metadata": {},
   "outputs": [],
   "source": [
    "products['valid_ip'] = products['ip_address'].apply(check)"
   ]
  },
  {
   "cell_type": "markdown",
   "metadata": {},
   "source": [
    "On supprime les lignes ayant *'valid_ip'* à *'NA'*."
   ]
  },
  {
   "cell_type": "code",
   "execution_count": 22,
   "metadata": {},
   "outputs": [],
   "source": [
    "products = products.dropna(subset = ['valid_ip'])"
   ]
  },
  {
   "cell_type": "markdown",
   "metadata": {},
   "source": [
    "On reduit le dataframe pour valider notre solution à petite échelle."
   ]
  },
  {
   "cell_type": "code",
   "execution_count": 22,
   "metadata": {},
   "outputs": [],
   "source": [
    "products = products[:50] "
   ]
  },
  {
   "cell_type": "markdown",
   "metadata": {},
   "source": [
    "On trouve les pays pour chaque ligne en se basant sur l'IP et on créé un dictionnaire {COUNTRY : local_CURRENCY} :"
   ]
  },
  {
   "cell_type": "code",
   "execution_count": 24,
   "metadata": {},
   "outputs": [],
   "source": [
    "products['country'] = products['ip_address'].apply(getCountry)\n",
    "\n",
    "#create a dictionary {COUNTRY : local_CURRENCY}\n",
    "url_currency= 'http://country.io/currency.json'\n",
    "res= requests.get(url_currency)\n",
    "dico_currency = res.json()"
   ]
  },
  {
   "cell_type": "markdown",
   "metadata": {},
   "source": [
    "On créé une colonne avec la monnaie locale pour chaque ligne en se basant sur le pays :"
   ]
  },
  {
   "cell_type": "code",
   "execution_count": 26,
   "metadata": {},
   "outputs": [],
   "source": [
    "products['local_currency'] = products['country'].map(dico_currency)\n",
    "\n",
    "#drop all the rows whose local_currency is NA\n",
    "products = products.dropna(subset = ['local_currency'])"
   ]
  },
  {
   "cell_type": "markdown",
   "metadata": {},
   "source": [
    "On créé un dictionnaire pour les taux de change avec comme monnaie de base l'EUR :"
   ]
  },
  {
   "cell_type": "code",
   "execution_count": 27,
   "metadata": {},
   "outputs": [],
   "source": [
    "url_currency_euro_rate= 'https://api.exchangerate-api.com/v4/latest/EUR'\n",
    "res2= requests.get(url_currency_euro_rate)\n",
    "dico_converter = res2.json()['rates']"
   ]
  },
  {
   "cell_type": "code",
   "execution_count": 28,
   "metadata": {},
   "outputs": [
    {
     "data": {
      "text/plain": [
       "{'EUR': 1,\n",
       " 'AED': 4.068761,\n",
       " 'ARS': 65.90392,\n",
       " 'AUD': 1.624208,\n",
       " 'BGN': 1.955803,\n",
       " 'BRL': 4.654462,\n",
       " 'BSD': 1.108037,\n",
       " 'CAD': 1.464947,\n",
       " 'CHF': 1.096555,\n",
       " 'CLP': 858.484682,\n",
       " 'CNY': 7.781921,\n",
       " 'COP': 3897.318182,\n",
       " 'CZK': 25.569042,\n",
       " 'DKK': 7.472131,\n",
       " 'DOP': 58.606288,\n",
       " 'EGP': 17.825572,\n",
       " 'FJD': 2.426174,\n",
       " 'GBP': 0.855575,\n",
       " 'GTQ': 8.536539,\n",
       " 'HKD': 8.670946,\n",
       " 'HRK': 7.442683,\n",
       " 'HUF': 335.070554,\n",
       " 'IDR': 15939.660005,\n",
       " 'ILS': 3.832073,\n",
       " 'INR': 79.553202,\n",
       " 'ISK': 136.241117,\n",
       " 'JPY': 120.310626,\n",
       " 'KRW': 1293.95236,\n",
       " 'KZT': 428.705,\n",
       " 'MXN': 21.381121,\n",
       " 'MYR': 4.604291,\n",
       " 'NOK': 10.097667,\n",
       " 'NZD': 1.726897,\n",
       " 'PAB': 1.108037,\n",
       " 'PEN': 3.738448,\n",
       " 'PHP': 56.294834,\n",
       " 'PKR': 171.482,\n",
       " 'PLN': 4.291514,\n",
       " 'PYG': 7145.083333,\n",
       " 'RON': 4.774401,\n",
       " 'RUB': 70.629441,\n",
       " 'SAR': 4.155068,\n",
       " 'SEK': 10.661343,\n",
       " 'SGD': 1.506962,\n",
       " 'THB': 33.449047,\n",
       " 'TRY': 6.331535,\n",
       " 'TWD': 33.804515,\n",
       " 'UAH': 26.779808,\n",
       " 'USD': 1.107716,\n",
       " 'UYU': 41.702821,\n",
       " 'VND': 25728.070175,\n",
       " 'ZAR': 16.349926}"
      ]
     },
     "execution_count": 28,
     "metadata": {},
     "output_type": "execute_result"
    }
   ],
   "source": [
    "dico_converter"
   ]
  },
  {
   "cell_type": "markdown",
   "metadata": {},
   "source": [
    "On créé la colonne avec les prix convertis en euros :"
   ]
  },
  {
   "cell_type": "code",
   "execution_count": 30,
   "metadata": {},
   "outputs": [
    {
     "data": {
      "text/html": [
       "<div>\n",
       "<style scoped>\n",
       "    .dataframe tbody tr th:only-of-type {\n",
       "        vertical-align: middle;\n",
       "    }\n",
       "\n",
       "    .dataframe tbody tr th {\n",
       "        vertical-align: top;\n",
       "    }\n",
       "\n",
       "    .dataframe thead th {\n",
       "        text-align: right;\n",
       "    }\n",
       "</style>\n",
       "<table border=\"1\" class=\"dataframe\">\n",
       "  <thead>\n",
       "    <tr style=\"text-align: right;\">\n",
       "      <th></th>\n",
       "      <th>username</th>\n",
       "      <th>ip_address</th>\n",
       "      <th>product</th>\n",
       "      <th>price</th>\n",
       "      <th>infos</th>\n",
       "      <th>egg</th>\n",
       "      <th>fish</th>\n",
       "      <th>gluten</th>\n",
       "      <th>milk</th>\n",
       "      <th>mustard</th>\n",
       "      <th>peanut</th>\n",
       "      <th>soja</th>\n",
       "      <th>sugar</th>\n",
       "      <th>valid_ip</th>\n",
       "      <th>country</th>\n",
       "      <th>currency</th>\n",
       "      <th>local_currency</th>\n",
       "      <th>price_in_euro</th>\n",
       "    </tr>\n",
       "  </thead>\n",
       "  <tbody>\n",
       "    <tr>\n",
       "      <td>3</td>\n",
       "      <td>kkarolowski3</td>\n",
       "      <td>26.191.237.49</td>\n",
       "      <td>Water - Mineral, Natural</td>\n",
       "      <td>350.15</td>\n",
       "      <td>gluten</td>\n",
       "      <td>0</td>\n",
       "      <td>0</td>\n",
       "      <td>1</td>\n",
       "      <td>0</td>\n",
       "      <td>0</td>\n",
       "      <td>0</td>\n",
       "      <td>0</td>\n",
       "      <td>0</td>\n",
       "      <td>True</td>\n",
       "      <td>US</td>\n",
       "      <td>NaN</td>\n",
       "      <td>USD</td>\n",
       "      <td>387.87</td>\n",
       "    </tr>\n",
       "    <tr>\n",
       "      <td>4</td>\n",
       "      <td>mbuckney4</td>\n",
       "      <td>58.90.204.239</td>\n",
       "      <td>Radish - Pickled</td>\n",
       "      <td>949.79</td>\n",
       "      <td>sugar egg  fish</td>\n",
       "      <td>1</td>\n",
       "      <td>1</td>\n",
       "      <td>0</td>\n",
       "      <td>0</td>\n",
       "      <td>0</td>\n",
       "      <td>0</td>\n",
       "      <td>0</td>\n",
       "      <td>1</td>\n",
       "      <td>True</td>\n",
       "      <td>JP</td>\n",
       "      <td>NaN</td>\n",
       "      <td>JPY</td>\n",
       "      <td>114269.83</td>\n",
       "    </tr>\n",
       "    <tr>\n",
       "      <td>7</td>\n",
       "      <td>avowdon7</td>\n",
       "      <td>189.169.17.54</td>\n",
       "      <td>Dc Hikiage Hira Huba</td>\n",
       "      <td>111.56</td>\n",
       "      <td>sugar</td>\n",
       "      <td>0</td>\n",
       "      <td>0</td>\n",
       "      <td>0</td>\n",
       "      <td>0</td>\n",
       "      <td>0</td>\n",
       "      <td>0</td>\n",
       "      <td>0</td>\n",
       "      <td>1</td>\n",
       "      <td>True</td>\n",
       "      <td>MX</td>\n",
       "      <td>NaN</td>\n",
       "      <td>MXN</td>\n",
       "      <td>2385.28</td>\n",
       "    </tr>\n",
       "    <tr>\n",
       "      <td>8</td>\n",
       "      <td>epridham8</td>\n",
       "      <td>187.129.113.105</td>\n",
       "      <td>Dried Figs</td>\n",
       "      <td>88.05</td>\n",
       "      <td>sugar milk  fish</td>\n",
       "      <td>0</td>\n",
       "      <td>1</td>\n",
       "      <td>0</td>\n",
       "      <td>1</td>\n",
       "      <td>0</td>\n",
       "      <td>0</td>\n",
       "      <td>0</td>\n",
       "      <td>1</td>\n",
       "      <td>True</td>\n",
       "      <td>MX</td>\n",
       "      <td>NaN</td>\n",
       "      <td>MXN</td>\n",
       "      <td>1882.61</td>\n",
       "    </tr>\n",
       "    <tr>\n",
       "      <td>9</td>\n",
       "      <td>tkendrew9</td>\n",
       "      <td>22.32.234.215</td>\n",
       "      <td>Pop - Club Soda Can</td>\n",
       "      <td>861.25</td>\n",
       "      <td>peanut sugar milk  fish</td>\n",
       "      <td>0</td>\n",
       "      <td>1</td>\n",
       "      <td>0</td>\n",
       "      <td>1</td>\n",
       "      <td>0</td>\n",
       "      <td>1</td>\n",
       "      <td>0</td>\n",
       "      <td>1</td>\n",
       "      <td>True</td>\n",
       "      <td>US</td>\n",
       "      <td>NaN</td>\n",
       "      <td>USD</td>\n",
       "      <td>954.02</td>\n",
       "    </tr>\n",
       "  </tbody>\n",
       "</table>\n",
       "</div>"
      ],
      "text/plain": [
       "       username       ip_address                   product   price  \\\n",
       "3  kkarolowski3    26.191.237.49  Water - Mineral, Natural  350.15   \n",
       "4     mbuckney4    58.90.204.239          Radish - Pickled  949.79   \n",
       "7      avowdon7    189.169.17.54      Dc Hikiage Hira Huba  111.56   \n",
       "8     epridham8  187.129.113.105                Dried Figs   88.05   \n",
       "9     tkendrew9    22.32.234.215       Pop - Club Soda Can  861.25   \n",
       "\n",
       "                       infos  egg  fish  gluten  milk  mustard  peanut  soja  \\\n",
       "3                     gluten    0     0       1     0        0       0     0   \n",
       "4            sugar egg  fish    1     1       0     0        0       0     0   \n",
       "7                      sugar    0     0       0     0        0       0     0   \n",
       "8           sugar milk  fish    0     1       0     1        0       0     0   \n",
       "9    peanut sugar milk  fish    0     1       0     1        0       1     0   \n",
       "\n",
       "   sugar valid_ip country  currency local_currency  price_in_euro  \n",
       "3      0     True      US       NaN            USD         387.87  \n",
       "4      1     True      JP       NaN            JPY      114269.83  \n",
       "7      1     True      MX       NaN            MXN        2385.28  \n",
       "8      1     True      MX       NaN            MXN        1882.61  \n",
       "9      1     True      US       NaN            USD         954.02  "
      ]
     },
     "execution_count": 30,
     "metadata": {},
     "output_type": "execute_result"
    }
   ],
   "source": [
    "products['price_in_euro'] = round(products['price']* products['local_currency'].map(dico_converter),2)\n",
    "products.head()"
   ]
  },
  {
   "cell_type": "code",
   "execution_count": null,
   "metadata": {},
   "outputs": [],
   "source": []
  }
 ],
 "metadata": {
  "kernelspec": {
   "display_name": "Python 3",
   "language": "python",
   "name": "python3"
  },
  "language_info": {
   "codemirror_mode": {
    "name": "ipython",
    "version": 3
   },
   "file_extension": ".py",
   "mimetype": "text/x-python",
   "name": "python",
   "nbconvert_exporter": "python",
   "pygments_lexer": "ipython3",
   "version": "3.7.4"
  }
 },
 "nbformat": 4,
 "nbformat_minor": 4
}

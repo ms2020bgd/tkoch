{
 "cells": [
  {
   "cell_type": "code",
   "execution_count": 39,
   "metadata": {},
   "outputs": [],
   "source": [
    "import requests\n",
    "from bs4 import BeautifulSoup\n",
    "import unittest"
   ]
  },
  {
   "cell_type": "code",
   "execution_count": 40,
   "metadata": {},
   "outputs": [],
   "source": [
    "URL_PAGE2 = \"https://kim.fspot.org/cours/page2.html\"\n",
    "URL_PAGE3 = \"https://kim.fspot.org/cours/page3.html\""
   ]
  },
  {
   "cell_type": "markdown",
   "metadata": {},
   "source": [
    "Write a function which extract some infos from the pages above.\n",
    "Example:\n",
    "```python\n",
    "get_prices_from_url(URL_PAGE2) should return something like this:\n",
    "\n",
    "     {\n",
    "         'Personal': {\n",
    "             'price': '$5',\n",
    "             'storage': '1GB',\n",
    "             'databases': 1\n",
    "         },\n",
    "         'Small Business': {\n",
    "             'price': '$25',\n",
    "             'storage': '10GB',\n",
    "             'databases': 5\n",
    "         },\n",
    "         'Enterprise': {\n",
    "             'price': '$45',\n",
    "             'storage': '100GB',\n",
    "             'databases': 25\n",
    "         }\n",
    "     }\n",
    "```"
   ]
  },
  {
   "cell_type": "code",
   "execution_count": 41,
   "metadata": {},
   "outputs": [],
   "source": [
    "def get_prices_from_url(url):\n",
    " \n",
    "    dict = {}\n",
    "    \n",
    "    soup = get_soup_from_url(url)\n",
    "    \n",
    "    categories = soup.find_all('div', class_=\"pricing-table\")\n",
    "    \n",
    "    for category in categories:\n",
    "        title = category.find('h2').text\n",
    "        price = category.find('span', class_=\"pricing-table-price\").text.strip().split(\" \")[0]\n",
    "        storage = category.find('ul', class_='pricing-table-list').find_all('li')[3].text.split(\" \")[0]\n",
    "        database = category.find('ul', class_='pricing-table-list').find_all('li')[4].text.split(\" \")[0]\n",
    "        dict[title]={\n",
    "        'price' : price,\n",
    "        'storage' : storage,\n",
    "        'databases' : int(database),\n",
    "        }\n",
    "    \n",
    "    return dict\n",
    "    "
   ]
  },
  {
   "cell_type": "code",
   "execution_count": 42,
   "metadata": {},
   "outputs": [
    {
     "name": "stdout",
     "output_type": "stream",
     "text": [
      "Personal = {'price': '$5', 'storage': '1GB', 'databases': 1}\n",
      "Small Business = {'price': '$25', 'storage': '10GB', 'databases': 5}\n",
      "Enterprise = {'price': '$45', 'storage': '100GB', 'databases': 25}\n"
     ]
    }
   ],
   "source": [
    "for key, val in get_prices_from_url(URL_PAGE2).items():\n",
    "    print (key,\"=\", val)"
   ]
  },
  {
   "cell_type": "code",
   "execution_count": 43,
   "metadata": {},
   "outputs": [
    {
     "name": "stdout",
     "output_type": "stream",
     "text": [
      "Personal = {'price': '$5', 'storage': '1GB', 'databases': 1}\n",
      "Small Business = {'price': '$25', 'storage': '10GB', 'databases': 5}\n",
      "Enterprise = {'price': '$45', 'storage': '100GB', 'databases': 25}\n",
      "Privilege = {'price': '$99', 'storage': '1TB', 'databases': 100}\n"
     ]
    }
   ],
   "source": [
    "for key, val in get_prices_from_url(URL_PAGE3).items():\n",
    "    print (key, \"=\", val)"
   ]
  },
  {
   "cell_type": "code",
   "execution_count": 44,
   "metadata": {},
   "outputs": [],
   "source": [
    "URL_BEERLIST_AUTRICHE = \"https://www.beerwulf.com/fr-FR/api/search/searchProducts?country=Autriche&container=Bouteille\"\n",
    "\n",
    "\n",
    "def get_soup_from_url(url):\n",
    "    res = requests.get(url)\n",
    "    soup = BeautifulSoup(res.content, 'html.parser')\n",
    "    return soup\n",
    "\n",
    "\n",
    "def extract_beer_infos(url):\n",
    "    # Example url: https://www.beerwulf.com/fr-fr/p/bieres/brouwerij-t-verzet-super-noah.33\n",
    "    soup = get_soup_from_url(url)\n",
    "    \n",
    "    # Extract name:\n",
    "    name = soup.find(\"h1\").text\n",
    "    \n",
    "    # Extract price:\n",
    "    price = soup.select('span.price')[0].text\n",
    "    price = float(price[2:].replace(',', '.'))  # \"€ 2,29\" => 2.29\n",
    "    \n",
    "    # Extract volume:\n",
    "    volume = soup.find('dt', text='Contenu').find_next_sibling()\n",
    "    volume = int(volume.text[:-2])  # \"33cl\" => 33\n",
    "    \n",
    "    # Extract evaluation:\n",
    "    note = soup.find('div', class_='stars')\n",
    "    note = int(note.attrs['data-percent'])\n",
    "    \n",
    "    # Extract EBC:\n",
    "    ebc = soup.find('div', class_='ebc')\n",
    "    children = ebc.find_all('div')\n",
    "    active_tag = ebc.find('div', class_='active')\n",
    "    position = children.index(active_tag)\n",
    "    ebc_pct = position / len(children) * 100\n",
    "    \n",
    "    infos = {\n",
    "        'name': name,\n",
    "        'price': price,\n",
    "        'volume': volume,\n",
    "        'note': note,\n",
    "        'ebc': ebc_pct,\n",
    "    }\n",
    "    return infos\n",
    "\n",
    "\n",
    "# This function takes a parameter \"url\" which (as its name suggests) is a url\n",
    "# pointing to a page of beerwulf API which contains a list of beers.\n",
    "# This function should return a list of beer informations, by using\n",
    "# the function extract_beer_infos that we wrote previously.\n",
    "# Example:\n",
    "#     extract_beer_list_infos(URL_BEERLIST_AUTRICHE) should return a list like this:\n",
    "#\n",
    "#     [{'name': 'Brew Age Affenkönig', 'price': 3.49, 'volume': 33, 'note': 70, 'ebc': 30.7},\n",
    "#      {'name': 'Stiegl Goldbraü', 'price': 2.49, 'volume': 33, 'note': 70, 'ebc': 38.4},\n",
    "#      {'name': 'Bevog Rudeen Black IPA', 'price': 3.39, 'volume': 33, 'note': 80, 'ebc': 84.6},\n",
    "#      {'name': 'Stiegl Columbus 1492', 'price': 1.99, 'volume': 33, 'note': 70, 'ebc': 7.6},\n",
    "#      {'name': 'Engelszell Benno', 'price': 4.99, 'volume': 33, 'note': 70, 'ebc': 46.1},\n",
    "#      {'name': 'Engelszell Gregorius', 'price': 5.49, 'volume': 33, 'note': 70, 'ebc': 53.8},\n",
    "#      {'name': 'Bevog Tak Pale Ale', 'price': 2.79, 'volume': 33, 'note': 70, 'ebc': 23.1},\n",
    "#      {'name': 'Brew Age Hopfenauflauf', 'price': 2.99, 'volume': 33, 'note': 70, 'ebc': 7.6}]\n",
    "def extract_beer_list_infos(url):\n",
    "    root = \"https://www.beerwulf.com\"\n",
    "    \n",
    "    list_beers = []\n",
    "    content = requests.get(url).json()\n",
    "    \n",
    "    for item in content['items']:\n",
    "        link = root + item['contentReference']\n",
    "        list_beers.append(extract_beer_infos(link))\n",
    "        \n",
    "    return list_beers\n"
   ]
  },
  {
   "cell_type": "code",
   "execution_count": 45,
   "metadata": {},
   "outputs": [],
   "source": [
    "class Lesson2Tests(unittest.TestCase):\n",
    "    def test_01_get_prices_from_url_page2(self):\n",
    "        prices = get_prices_from_url(URL_PAGE2)\n",
    "        # We should have found 3 products:\n",
    "        self.assertIsInstance(prices, dict)\n",
    "        self.assertEqual(len(prices), 3)\n",
    "        self.assertIn('Personal', prices)\n",
    "        self.assertIn('Small Business', prices)\n",
    "        self.assertIn('Enterprise', prices)\n",
    "        \n",
    "        personal = prices['Personal']\n",
    "        self.assertIn('price', personal)\n",
    "        self.assertIn('storage', personal)\n",
    "        self.assertIn('databases', personal)\n",
    "        self.assertEqual(personal['price'], '$5')\n",
    "        self.assertEqual(personal['storage'], '1GB')\n",
    "        self.assertEqual(personal['databases'], 1)\n",
    "        \n",
    "    def test_02_get_prices_from_url_page3(self):\n",
    "        prices = get_prices_from_url(URL_PAGE3)\n",
    "        self.assertIsInstance(prices, dict)\n",
    "        self.assertEqual(len(prices), 4)\n",
    "        self.assertEqual(\n",
    "            prices['Privilege'],\n",
    "            {'databases': 100, 'price': '$99', 'storage': '1TB'}\n",
    "        )\n",
    "    \n",
    "    def test_03_extract_beer_list_infos(self):\n",
    "        infos = extract_beer_list_infos(URL_BEERLIST_AUTRICHE)\n",
    "        # We should have 8 austrian beers:\n",
    "        self.assertIsInstance(infos, list)\n",
    "        self.assertEqual(len(infos), 8)\n",
    "        # All of them are 33cl:\n",
    "        for beer in infos:\n",
    "            self.assertEqual(beer['volume'], 33)"
   ]
  },
  {
   "cell_type": "code",
   "execution_count": 46,
   "metadata": {},
   "outputs": [
    {
     "name": "stderr",
     "output_type": "stream",
     "text": [
      "test_01_get_prices_from_url_page2 (__main__.Lesson2Tests) ... ok\n",
      "test_02_get_prices_from_url_page3 (__main__.Lesson2Tests) ... ok\n",
      "test_03_extract_beer_list_infos (__main__.Lesson2Tests) ... ok\n",
      "\n",
      "----------------------------------------------------------------------\n",
      "Ran 3 tests in 10.931s\n",
      "\n",
      "OK\n"
     ]
    }
   ],
   "source": [
    "def run_tests():\n",
    "    test_suite = unittest.makeSuite(Lesson2Tests)\n",
    "    runner = unittest.TextTestRunner(verbosity=2)\n",
    "    runner.run(test_suite)\n",
    "\n",
    "\n",
    "if __name__ == '__main__':\n",
    "    run_tests()"
   ]
  },
  {
   "cell_type": "code",
   "execution_count": null,
   "metadata": {},
   "outputs": [],
   "source": []
  }
 ],
 "metadata": {
  "kernelspec": {
   "display_name": "Python 3",
   "language": "python",
   "name": "python3"
  },
  "language_info": {
   "codemirror_mode": {
    "name": "ipython",
    "version": 3
   },
   "file_extension": ".py",
   "mimetype": "text/x-python",
   "name": "python",
   "nbconvert_exporter": "python",
   "pygments_lexer": "ipython3",
   "version": "3.7.4"
  }
 },
 "nbformat": 4,
 "nbformat_minor": 4
}
